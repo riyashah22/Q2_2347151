{
 "cells": [
  {
   "cell_type": "code",
   "execution_count": 7,
   "metadata": {},
   "outputs": [
    {
     "name": "stdout",
     "output_type": "stream",
     "text": [
      "The number is divisible by 3:  [333, 30]\n",
      "The number is not divisible by 3:  [140, 121]\n"
     ]
    }
   ],
   "source": [
    "# Q1 - List\n",
    "# A\n",
    "calories = [333,140,121,30]\n",
    "\n",
    "divisibleBy3 = [x for x in calories if x%3==0]\n",
    "notDivisibleBy3 = [x for x in calories if x%3!=0]\n",
    "\n",
    "print(\"The number is divisible by 3: \",divisibleBy3)\n",
    "print(\"The number is not divisible by 3: \",notDivisibleBy3)\n",
    "# -----Answer------\n"
   ]
  },
  {
   "cell_type": "code",
   "execution_count": 8,
   "metadata": {},
   "outputs": [
    {
     "name": "stdout",
     "output_type": "stream",
     "text": [
      "The square of an even number in a list is:  [4, 16, 36]\n"
     ]
    }
   ],
   "source": [
    "# ----------------------------------------------------------------\n",
    "# B\n",
    "exercise_time = [1,2,3,4,5,6]\n",
    "squareOfEvenNumber = [x**2 for x in exercise_time if x%2==0]\n",
    "print(\"The square of an even number in a list is: \",squareOfEvenNumber)\n",
    "# -----Answer------"
   ]
  },
  {
   "cell_type": "code",
   "execution_count": 9,
   "metadata": {},
   "outputs": [
    {
     "name": "stdout",
     "output_type": "stream",
     "text": [
      "The sum of even number calories of the day is:  824\n"
     ]
    }
   ],
   "source": [
    "# ----------------------------------------------------------------\n",
    "# C\n",
    "calories_of_day = [100,224,3265,489,500]\n",
    "sum=0\n",
    "[ sum:=sum + x for x in calories_of_day if x%2 ==0]\n",
    "print(\"The sum of even number calories of the day is: \",sum)\n",
    "# -----Answer------"
   ]
  },
  {
   "cell_type": "code",
   "execution_count": 10,
   "metadata": {},
   "outputs": [
    {
     "name": "stdout",
     "output_type": "stream",
     "text": [
      "The actual list:  [1, 1, 2, 3, 1, 3]\n",
      "After removing the duplicate numbers:  [1, 3, 2]\n"
     ]
    }
   ],
   "source": [
    "# ----------------------------------------------------------------\n",
    "# D\n",
    "remove_duplicasy = [1,1,2,3,1,3]\n",
    "print(\"The actual list: \", remove_duplicasy)\n",
    "\n",
    "newlist = [remove_duplicasy.pop(x) if remove_duplicasy[x] in remove_duplicasy else x for x in remove_duplicasy ]\n",
    "print(\"After removing the duplicate numbers: \",newlist)\n",
    "# -----Answer------"
   ]
  },
  {
   "cell_type": "code",
   "execution_count": 11,
   "metadata": {},
   "outputs": [
    {
     "name": "stdout",
     "output_type": "stream",
     "text": [
      "The Birthdate of the Riya is : 22 February 2003\n",
      "The Birthdate of the Hetansh is : 26 december 1999\n"
     ]
    }
   ],
   "source": [
    "# ----------------------------------------------------------------\n",
    "#  Q2\n",
    "birthdates_of_customers = {\"Riya\":\"22 February 2003\",\"Abhishek\": \"7 September 2010\",\"Hetansh\": \"26 december 1999\",\"Mona\":\"17 October 2000\",\"Abhinav\": \"25 January 2008\"}\n",
    "def birthday(name):\n",
    "    print(\"The Birthdate of the\",name,\"is :\",birthdates_of_customers[name])\n",
    "    \n",
    "birthday(\"Riya\")\n",
    "birthday(\"Hetansh\")"
   ]
  }
 ],
 "metadata": {
  "kernelspec": {
   "display_name": "Python 3.11.4 64-bit",
   "language": "python",
   "name": "python3"
  },
  "language_info": {
   "codemirror_mode": {
    "name": "ipython",
    "version": 3
   },
   "file_extension": ".py",
   "mimetype": "text/x-python",
   "name": "python",
   "nbconvert_exporter": "python",
   "pygments_lexer": "ipython3",
   "version": "3.11.4"
  },
  "orig_nbformat": 4,
  "vscode": {
   "interpreter": {
    "hash": "aee8b7b246df8f9039afb4144a1f6fd8d2ca17a180786b69acc140d282b71a49"
   }
  }
 },
 "nbformat": 4,
 "nbformat_minor": 2
}
